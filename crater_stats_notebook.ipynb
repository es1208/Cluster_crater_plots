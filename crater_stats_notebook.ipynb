{
 "cells": [
  {
   "cell_type": "code",
   "execution_count": 50,
   "metadata": {},
   "outputs": [],
   "source": [
    "import pandas as pd\n",
    "import os\n",
    "import numpy as np\n",
    "import matplotlib.pyplot as plt\n",
    "from ipywidgets import interact\n"
   ]
  },
  {
   "cell_type": "code",
   "execution_count": 21,
   "metadata": {},
   "outputs": [
    {
     "name": "stdout",
     "output_type": "stream",
     "text": [
      "(709, 3, 1100)\n"
     ]
    }
   ],
   "source": [
    "working_dir = '/home/Work/clusters/'\n",
    "all_craters = pd.read_csv(os.path.join(working_dir,'all_data_clusters.csv'))\n",
    "\n",
    "f = os.path.join(working_dir, 'ndarray_of_all_craters.txt')\n",
    "\n",
    "files = np.loadtxt(os.path.join(working_dir, 'filename_list.txt'), dtype='str')\n",
    "total_f = len(files)\n",
    "total_c = 3\n",
    "\n",
    "\n",
    "data_all = np.loadtxt(f).reshape((total_f, total_c, 1100))\n",
    "print(data_all.shape)"
   ]
  },
  {
   "cell_type": "code",
   "execution_count": 22,
   "metadata": {},
   "outputs": [],
   "source": [
    "k=1\n",
    "bins=[k]\n",
    "for i in range(11):\n",
    "    k*= 2**(0.5)\n",
    "    bins.append(k)\n",
    "\n",
    "mid_bin = []\n",
    "bin_width = []\n",
    "for i in range(len(bins)-1):\n",
    "    mid_bin.append( (bins[i] + (bins[i+1]-bins[i]) / 2  ) )\n",
    "    bin_width.append(bins[i+1]-bins[i])\n",
    "\n",
    "bin_width = np.array(bin_width)\n",
    "mid_bin = np.array(mid_bin)\n"
   ]
  },
  {
   "cell_type": "code",
   "execution_count": null,
   "metadata": {
    "scrolled": false
   },
   "outputs": [],
   "source": []
  },
  {
   "cell_type": "code",
   "execution_count": null,
   "metadata": {},
   "outputs": [],
   "source": [
    "plt.close()\n",
    "\n",
    "\n",
    "def interact_plot(N, upper_limit, lower_limit, remove_start):#, remove_end):\n",
    "    plt.figure(figsize=(8,6))\n",
    "    dsfd_values=np.empty([len(bins)-1, total_f])*np.nan\n",
    "    count=0\n",
    "    color=iter(plt.cm.gist_ncar(np.linspace(0,1,N)))\n",
    "\n",
    "    for i in range(total_f):\n",
    "        \n",
    "        p_data = np.array([n for n in data_all[i, :,:][0] if n>0.005])\n",
    "        if len(p_data)>lower_limit and count<N and len(p_data)<upper_limit:\n",
    "            c=next(color)\n",
    "            \n",
    "            try:\n",
    "                area = all_craters.loc[all_craters[\"Observation_ID\"]== files[i], \"area_ellipse\"].iloc[0]\n",
    "                area /=1e6\n",
    "            except IndexError:\n",
    "                print(f'the crater {files[i]} was not found in the all_craters csv file. using an area of 1 km2')\n",
    "                area = 1/1e6\n",
    "            n = np.array([np.sum((p_data>bins[i])&((p_data<=bins[i+1]))) for i in range(len(bins)-1)])\n",
    "            \n",
    "            d_vals = n/bin_width\n",
    "\n",
    "            plt.plot( mid_bin, d_vals, '.', label=files[i], c=c)\n",
    "            \n",
    "            # plot error bars\n",
    "            stds = n**0.5\n",
    "            min_n = n - stds\n",
    "            max_n = n + stds\n",
    "            \n",
    "            plt.vlines(mid_bin,min_n/bin_width,max_n/bin_width, color=c, alpha = 0.1)\n",
    "\n",
    "\n",
    "            #line fitting\n",
    "            reduced_n_mask = (n>3)       # take only bins with craters over this value\n",
    "            for r in range(remove_start):\n",
    "                reduced_n_mask[r] = False    # removing first bin points as given\n",
    "#             k = 0\n",
    "#             r = 0\n",
    "#             while r<remove_end: \n",
    "#                 print(r, k, reduced_n_mask[-k])\n",
    "#                 if reduced_n_mask[-k] == True:    # removing end points where not already false\n",
    "#                     reduced_n_mask[-k] = False\n",
    "#                     r+=1\n",
    "#                 k+=1\n",
    "#             print(reduced_n_mask)\n",
    "\n",
    "            log_x_data = np.log10(mid_bin[reduced_n_mask])\n",
    "            log_y_data = np.log10(d_vals[reduced_n_mask])\n",
    "\n",
    "            a, b = np.polyfit(log_x_data, log_y_data, 1)\n",
    "            y = 10**(a * np.log10(mid_bin) + b)\n",
    "\n",
    "\n",
    "            plt.plot(mid_bin, y, label=f'slope of fit line:{a:.3f}, N craters:{len(p_data)}', c=c)\n",
    "            count+=1\n",
    "\n",
    "\n",
    "\n",
    "    plt.xscale(\"log\")\n",
    "    plt.yscale(\"log\")\n",
    "    plt.legend(bbox_to_anchor=(1.05, 1), loc='upper left')\n",
    "    plt.grid()\n",
    "\n",
    "print(\"To use this interact tool:\\nDetermin the number of clusters you wish to plot (N) \\nthat contain a subset of craters within the upper and lower limit values.\\nThe remove from start option allow you to adjust the linear fits.\\nNote that any bins with less than 3 craters are already removed from the fit\")\n",
    "interact(interact_plot, N=[1, 5, 10, 1000], upper_limit=(5, 600, 10), lower_limit=(5, 400, 10), remove_start=[1, 0, 2, 3, 4, 5])#, remove_end=[1, 0, 2, 3, 4, 5])"
   ]
  },
  {
   "cell_type": "markdown",
   "metadata": {},
   "source": [
    "# same again, but without interact"
   ]
  },
  {
   "cell_type": "code",
   "execution_count": null,
   "metadata": {},
   "outputs": [],
   "source": [
    "plt.close()\n",
    "plt.figure(figsize=(8,6))\n",
    "dsfd_values=np.empty([len(bins)-1, total_f])*np.nan\n",
    "\n",
    "limit = 50\n",
    "count=0\n",
    "\n",
    "for i in range(total_f):\n",
    "    p_data = np.array([n for n in data_all[i, :,:][0] if n>0.005])\n",
    "    if len(p_data)>limit:\n",
    "        try:\n",
    "            area = all_craters.loc[all_craters[\"Observation_ID\"]== files[i], \"area_ellipse\"].iloc[0]\n",
    "            area /=1e6\n",
    "        except IndexError:\n",
    "            area = 1/1e6\n",
    "        n = np.array([np.sum((p_data>bins[i])&((p_data<=bins[i+1]))) for i in range(len(bins)-1)])\n",
    "        stds = n**0.5\n",
    "        min_n = n - stds\n",
    "        max_n = n + stds\n",
    "        #n,x,_ = plt.hist(p_data, bins = bins, histtype='step', color='k', alpha=0)#, normed=1)\n",
    "        d_vals = n/bin_width\n",
    "#         mid_x = []\n",
    "#         for i in range(len(x)-1):TypeError: 'str' object isTypeError: 'str' object is not callable not callable\n",
    "#             #mid_val = (x[i] + (x[i+1]-x[i]) / 2  ) \n",
    "#             mid_x.append( mid_val )\n",
    "#             d_vals.append(area / mid_val)\n",
    "\n",
    "        plt.plot( mid_bin, d_vals, '.', label=files[i])\n",
    "#         plt.vlines(mid_bin,min_n/bin_width,max_n/bin_width)\n",
    "\n",
    "\n",
    "        #line fitting\n",
    "        reduced_n_mask = (n>2)       # take only bins with craters over this value\n",
    "        reduced_n_mask[0] = False    # removing first bin points where <1m is unreliable\n",
    "\n",
    "        log_x_data = np.log10(mid_bin[reduced_n_mask])\n",
    "        log_y_data = np.log10(d_vals[reduced_n_mask])\n",
    "\n",
    "        a, b = np.polyfit(log_x_data, log_y_data, 1)\n",
    "        y = 10**(a * np.log10(mid_bin) + b)\n",
    "#         y = 10B * 10**(a* mid_bin[reduced_n_mask])\n",
    "\n",
    "#         log10(N) = -a log10(m) + log10(b)\n",
    "#          N = 10** (-a log10(m) + log10(b))\n",
    "#         y= 10**b * 10**(a*xdata)\n",
    "\n",
    "        plt.plot(mid_bin, y, label=f'slope of fit line:{a:.3f}, N craters:{len(p_data)}')\n",
    "        count+=1\n",
    "\n",
    "\n",
    "\n",
    "plt.xscale(\"log\")\n",
    "plt.yscale(\"log\")\n",
    "plt.legend()\n",
    "plt.grid()\n"
   ]
  },
  {
   "cell_type": "code",
   "execution_count": null,
   "metadata": {},
   "outputs": [],
   "source": []
  },
  {
   "cell_type": "code",
   "execution_count": null,
   "metadata": {},
   "outputs": [],
   "source": []
  },
  {
   "cell_type": "code",
   "execution_count": null,
   "metadata": {},
   "outputs": [],
   "source": []
  },
  {
   "cell_type": "code",
   "execution_count": null,
   "metadata": {},
   "outputs": [],
   "source": []
  },
  {
   "cell_type": "code",
   "execution_count": null,
   "metadata": {},
   "outputs": [],
   "source": []
  },
  {
   "cell_type": "code",
   "execution_count": null,
   "metadata": {},
   "outputs": [],
   "source": []
  }
 ],
 "metadata": {
  "kernelspec": {
   "display_name": "Python 3",
   "language": "python",
   "name": "python3"
  },
  "language_info": {
   "codemirror_mode": {
    "name": "ipython",
    "version": 3
   },
   "file_extension": ".py",
   "mimetype": "text/x-python",
   "name": "python",
   "nbconvert_exporter": "python",
   "pygments_lexer": "ipython3",
   "version": "3.7.9"
  }
 },
 "nbformat": 4,
 "nbformat_minor": 4
}
